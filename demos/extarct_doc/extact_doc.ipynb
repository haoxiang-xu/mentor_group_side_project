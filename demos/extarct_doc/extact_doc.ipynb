{
 "cells": [
  {
   "cell_type": "code",
   "execution_count": 8,
   "metadata": {},
   "outputs": [],
   "source": [
    "from docx import Document\n",
    "\n",
    "def docx_to_markdown(path):\n",
    "    doc = Document(path)\n",
    "    md = \"\"\n",
    "\n",
    "    for para in doc.paragraphs:\n",
    "        style = para.style.name\n",
    "\n",
    "        if style.startswith(\"Heading\"):\n",
    "            level = style.replace(\"Heading \", \"\")\n",
    "            md += f\"{'#' * int(level)} {para.text}\\n\\n\"\n",
    "        else:\n",
    "            md += para.text + \"\\n\\n\"\n",
    "    \n",
    "    return md\n",
    "\n",
    "markdown_text = docx_to_markdown(\"../../data/preprocessed_data/Policies_Meridian.docx\")\n",
    "with open(\"./Policies_Meridian_docx.md\", \"w\", encoding=\"utf-8\") as f:\n",
    "    f.write(markdown_text)"
   ]
  },
  {
   "cell_type": "code",
   "execution_count": 7,
   "metadata": {},
   "outputs": [],
   "source": [
    "import mammoth\n",
    "\n",
    "with open(\"../../data/preprocessed_data/Policies_Meridian.docx\", \"rb\") as docx_file:\n",
    "    result = mammoth.convert_to_markdown(docx_file)\n",
    "    markdown = result.value\n",
    "\n",
    "with open(\"./Policies_Meridian_mammoth.md\", \"w\", encoding=\"utf-8\") as f:\n",
    "    f.write(markdown)\n"
   ]
  }
 ],
 "metadata": {
  "kernelspec": {
   "display_name": "venv",
   "language": "python",
   "name": "python3"
  },
  "language_info": {
   "codemirror_mode": {
    "name": "ipython",
    "version": 3
   },
   "file_extension": ".py",
   "mimetype": "text/x-python",
   "name": "python",
   "nbconvert_exporter": "python",
   "pygments_lexer": "ipython3",
   "version": "3.11.11"
  }
 },
 "nbformat": 4,
 "nbformat_minor": 2
}
